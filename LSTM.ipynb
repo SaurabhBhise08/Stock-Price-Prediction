{
  "nbformat": 4,
  "nbformat_minor": 0,
  "metadata": {
    "colab": {
      "name": "LSTM_STOCK_PREDICTION.ipynb",
      "provenance": [],
      "collapsed_sections": []
    },
    "kernelspec": {
      "name": "python3",
      "display_name": "Python 3"
    }
  },
  "cells": [
    {
      "cell_type": "code",
      "metadata": {
        "id": "wYtiNYWyeJMt",
        "colab_type": "code",
        "colab": {}
      },
      "source": [
        "#Import the libraries\n",
        "import math\n",
        "import pandas_datareader as web\n",
        "import numpy as np\n",
        "import pandas as pd\n",
        "from sklearn.preprocessing import MinMaxScaler\n",
        "from keras.models import Sequential\n",
        "from keras.layers import Dense, LSTM\n",
        "from tensorflow.python.keras.layers import Dense,LSTM\n",
        "from tensorflow.python.keras import Sequential\n",
        "from keras import metrics\n",
        "import matplotlib.pyplot as plt\n",
        "plt.style.use('fivethirtyeight')"
      ],
      "execution_count": 0,
      "outputs": []
    },
    {
      "cell_type": "code",
      "metadata": {
        "id": "h7RBexFtknfa",
        "colab_type": "code",
        "outputId": "5c976cf0-b259-48a7-d521-a3950769c4cd",
        "colab": {
          "base_uri": "https://localhost:8080/",
          "height": 420
        }
      },
      "source": [
        "#Get the stock quote\n",
        "df = web.DataReader('AAPL', data_source='yahoo', start='2008-01-01', end='2020-01-01')\n",
        "#Show teh data\n",
        "df"
      ],
      "execution_count": 0,
      "outputs": [
        {
          "output_type": "execute_result",
          "data": {
            "text/html": [
              "<div>\n",
              "<style scoped>\n",
              "    .dataframe tbody tr th:only-of-type {\n",
              "        vertical-align: middle;\n",
              "    }\n",
              "\n",
              "    .dataframe tbody tr th {\n",
              "        vertical-align: top;\n",
              "    }\n",
              "\n",
              "    .dataframe thead th {\n",
              "        text-align: right;\n",
              "    }\n",
              "</style>\n",
              "<table border=\"1\" class=\"dataframe\">\n",
              "  <thead>\n",
              "    <tr style=\"text-align: right;\">\n",
              "      <th></th>\n",
              "      <th>High</th>\n",
              "      <th>Low</th>\n",
              "      <th>Open</th>\n",
              "      <th>Close</th>\n",
              "      <th>Volume</th>\n",
              "      <th>Adj Close</th>\n",
              "    </tr>\n",
              "    <tr>\n",
              "      <th>Date</th>\n",
              "      <th></th>\n",
              "      <th></th>\n",
              "      <th></th>\n",
              "      <th></th>\n",
              "      <th></th>\n",
              "      <th></th>\n",
              "    </tr>\n",
              "  </thead>\n",
              "  <tbody>\n",
              "    <tr>\n",
              "      <th>2008-01-02</th>\n",
              "      <td>28.608572</td>\n",
              "      <td>27.507143</td>\n",
              "      <td>28.467142</td>\n",
              "      <td>27.834286</td>\n",
              "      <td>269794700.0</td>\n",
              "      <td>24.161295</td>\n",
              "    </tr>\n",
              "    <tr>\n",
              "      <th>2008-01-03</th>\n",
              "      <td>28.198572</td>\n",
              "      <td>27.527143</td>\n",
              "      <td>27.915714</td>\n",
              "      <td>27.847143</td>\n",
              "      <td>210516600.0</td>\n",
              "      <td>24.172449</td>\n",
              "    </tr>\n",
              "    <tr>\n",
              "      <th>2008-01-04</th>\n",
              "      <td>27.571428</td>\n",
              "      <td>25.555714</td>\n",
              "      <td>27.350000</td>\n",
              "      <td>25.721428</td>\n",
              "      <td>363958000.0</td>\n",
              "      <td>22.327251</td>\n",
              "    </tr>\n",
              "    <tr>\n",
              "      <th>2008-01-07</th>\n",
              "      <td>26.228571</td>\n",
              "      <td>24.318571</td>\n",
              "      <td>25.892857</td>\n",
              "      <td>25.377142</td>\n",
              "      <td>518048300.0</td>\n",
              "      <td>22.028393</td>\n",
              "    </tr>\n",
              "    <tr>\n",
              "      <th>2008-01-08</th>\n",
              "      <td>26.065714</td>\n",
              "      <td>24.400000</td>\n",
              "      <td>25.734285</td>\n",
              "      <td>24.464285</td>\n",
              "      <td>380954000.0</td>\n",
              "      <td>21.235991</td>\n",
              "    </tr>\n",
              "    <tr>\n",
              "      <th>...</th>\n",
              "      <td>...</td>\n",
              "      <td>...</td>\n",
              "      <td>...</td>\n",
              "      <td>...</td>\n",
              "      <td>...</td>\n",
              "      <td>...</td>\n",
              "    </tr>\n",
              "    <tr>\n",
              "      <th>2019-12-24</th>\n",
              "      <td>284.890015</td>\n",
              "      <td>282.920013</td>\n",
              "      <td>284.690002</td>\n",
              "      <td>284.269989</td>\n",
              "      <td>12119700.0</td>\n",
              "      <td>283.596924</td>\n",
              "    </tr>\n",
              "    <tr>\n",
              "      <th>2019-12-26</th>\n",
              "      <td>289.980011</td>\n",
              "      <td>284.700012</td>\n",
              "      <td>284.820007</td>\n",
              "      <td>289.910004</td>\n",
              "      <td>23280300.0</td>\n",
              "      <td>289.223602</td>\n",
              "    </tr>\n",
              "    <tr>\n",
              "      <th>2019-12-27</th>\n",
              "      <td>293.970001</td>\n",
              "      <td>288.119995</td>\n",
              "      <td>291.119995</td>\n",
              "      <td>289.799988</td>\n",
              "      <td>36566500.0</td>\n",
              "      <td>289.113831</td>\n",
              "    </tr>\n",
              "    <tr>\n",
              "      <th>2019-12-30</th>\n",
              "      <td>292.690002</td>\n",
              "      <td>285.220001</td>\n",
              "      <td>289.459991</td>\n",
              "      <td>291.519989</td>\n",
              "      <td>36028600.0</td>\n",
              "      <td>290.829773</td>\n",
              "    </tr>\n",
              "    <tr>\n",
              "      <th>2019-12-31</th>\n",
              "      <td>293.679993</td>\n",
              "      <td>289.519989</td>\n",
              "      <td>289.929993</td>\n",
              "      <td>293.649994</td>\n",
              "      <td>25201400.0</td>\n",
              "      <td>292.954712</td>\n",
              "    </tr>\n",
              "  </tbody>\n",
              "</table>\n",
              "<p>3021 rows × 6 columns</p>\n",
              "</div>"
            ],
            "text/plain": [
              "                  High         Low  ...       Volume   Adj Close\n",
              "Date                                ...                         \n",
              "2008-01-02   28.608572   27.507143  ...  269794700.0   24.161295\n",
              "2008-01-03   28.198572   27.527143  ...  210516600.0   24.172449\n",
              "2008-01-04   27.571428   25.555714  ...  363958000.0   22.327251\n",
              "2008-01-07   26.228571   24.318571  ...  518048300.0   22.028393\n",
              "2008-01-08   26.065714   24.400000  ...  380954000.0   21.235991\n",
              "...                ...         ...  ...          ...         ...\n",
              "2019-12-24  284.890015  282.920013  ...   12119700.0  283.596924\n",
              "2019-12-26  289.980011  284.700012  ...   23280300.0  289.223602\n",
              "2019-12-27  293.970001  288.119995  ...   36566500.0  289.113831\n",
              "2019-12-30  292.690002  285.220001  ...   36028600.0  290.829773\n",
              "2019-12-31  293.679993  289.519989  ...   25201400.0  292.954712\n",
              "\n",
              "[3021 rows x 6 columns]"
            ]
          },
          "metadata": {
            "tags": []
          },
          "execution_count": 44
        }
      ]
    },
    {
      "cell_type": "code",
      "metadata": {
        "id": "_qT341ntkwDK",
        "colab_type": "code",
        "outputId": "d04b7390-f0d4-4862-a17f-10a5ae91baad",
        "colab": {
          "base_uri": "https://localhost:8080/",
          "height": 33
        }
      },
      "source": [
        "#Get the number of rows and columns in the data set\n",
        "df.shape"
      ],
      "execution_count": 0,
      "outputs": [
        {
          "output_type": "execute_result",
          "data": {
            "text/plain": [
              "(3021, 6)"
            ]
          },
          "metadata": {
            "tags": []
          },
          "execution_count": 45
        }
      ]
    },
    {
      "cell_type": "code",
      "metadata": {
        "id": "i_ky-ds2k17n",
        "colab_type": "code",
        "outputId": "f4fc3421-b447-47af-e9f9-9de8c3ee1549",
        "colab": {
          "base_uri": "https://localhost:8080/",
          "height": 557
        }
      },
      "source": [
        "#Visualize the closing price history\n",
        "plt.figure(figsize=(16,8))\n",
        "plt.title('Adj Close Price History')\n",
        "plt.plot(df['Adj Close'])\n",
        "plt.xlabel('Date', fontsize=18)\n",
        "plt.ylabel('Adj Close Price USD ($)', fontsize=18)\n",
        "plt.show()"
      ],
      "execution_count": 0,
      "outputs": [
        {
          "output_type": "display_data",
          "data": {
            "image/png": "[encoded data removed]",
            "text/plain": [
              "<Figure size 1152x576 with 1 Axes>"
            ]
          },
          "metadata": {
            "tags": []
          }
        }
      ]
    },
    {
      "cell_type": "code",
      "metadata": {
        "id": "y5L-udr6mAub",
        "colab_type": "code",
        "outputId": "23d8bb59-420f-4ab1-919d-3c17de55af86",
        "colab": {
          "base_uri": "https://localhost:8080/",
          "height": 33
        }
      },
      "source": [
        "#Create a new dataframe with only the 'Close column\n",
        "data = df.filter(['Adj Close'])\n",
        "#Convert the dataframe to a numpy array\n",
        "dataset = data.values\n",
        "#Get the number of rows to train the model on\n",
        "training_data_len = math.ceil( len(dataset) * .8 )\n",
        "\n",
        "training_data_len"
      ],
      "execution_count": 0,
      "outputs": [
        {
          "output_type": "execute_result",
          "data": {
            "text/plain": [
              "2417"
            ]
          },
          "metadata": {
            "tags": []
          },
          "execution_count": 47
        }
      ]
    },
    {
      "cell_type": "code",
      "metadata": {
        "id": "NLV8G27UmGHJ",
        "colab_type": "code",
        "outputId": "a5751d69-97b9-4a84-b567-6d1b5cc6cf93",
        "colab": {
          "base_uri": "https://localhost:8080/",
          "height": 131
        }
      },
      "source": [
        "#Scale the data\n",
        "scaler = MinMaxScaler(feature_range=(0,1))\n",
        "scaled_data = scaler.fit_transform(dataset)\n",
        "\n",
        "scaled_data"
      ],
      "execution_count": 0,
      "outputs": [
        {
          "output_type": "execute_result",
          "data": {
            "text/plain": [
              "array([[0.05106322],\n",
              "       [0.0511026 ],\n",
              "       [0.0445884 ],\n",
              "       ...,\n",
              "       [0.98644032],\n",
              "       [0.99249821],\n",
              "       [1.        ]])"
            ]
          },
          "metadata": {
            "tags": []
          },
          "execution_count": 48
        }
      ]
    },
    {
      "cell_type": "code",
      "metadata": {
        "id": "5nXgaX-XmJWz",
        "colab_type": "code",
        "outputId": "a12dbea0-c34d-4eec-cd9c-cda024178df6",
        "colab": {
          "base_uri": "https://localhost:8080/",
          "height": 245
        }
      },
      "source": [
        "#Create the training data set\n",
        "#Create the scaled training data set\n",
        "train_data = scaled_data[0:training_data_len , :]\n",
        "#Split the data into x_train and y_train data sets\n",
        "x_train = []\n",
        "y_train = []\n",
        "\n",
        "for i in range(60, len(train_data)):\n",
        "  x_train.append(train_data[i-60:i, 0])\n",
        "  y_train.append(train_data[i, 0])\n",
        "  if i<= 60:\n",
        "    print(x_train)\n",
        "    print(y_train)\n",
        "    print()"
      ],
      "execution_count": 0,
      "outputs": [
        {
          "output_type": "stream",
          "text": [
            "[array([0.05106322, 0.0511026 , 0.0445884 , 0.04353332, 0.04073585,\n",
            "       0.04430383, 0.04369968, 0.0413663 , 0.0440324 , 0.03976837,\n",
            "       0.0356532 , 0.03620042, 0.03640617, 0.03390206, 0.02664796,\n",
            "       0.02512885, 0.02268163, 0.02268163, 0.02335143, 0.02363165,\n",
            "       0.02502377, 0.02431897, 0.0233996 , 0.02239705, 0.01917498,\n",
            "       0.01884227, 0.02069846, 0.02243648, 0.02042704, 0.02241458,\n",
            "       0.02156528, 0.02032635, 0.01925377, 0.01997175, 0.01897361,\n",
            "       0.01806301, 0.01818559, 0.01792729, 0.01959526, 0.02263784,\n",
            "       0.02049709, 0.01905679, 0.02032196, 0.02026507, 0.01870656,\n",
            "       0.01928442, 0.01816368, 0.02151714, 0.02093925, 0.02177543,\n",
            "       0.02119317, 0.02124571, 0.02391179, 0.02253279, 0.0241088 ,\n",
            "       0.02684935, 0.02748413, 0.02927031, 0.02716455, 0.02837285])]\n",
            "[0.028587356473268183]\n",
            "\n"
          ],
          "name": "stdout"
        }
      ]
    },
    {
      "cell_type": "code",
      "metadata": {
        "id": "Mq6chrxZmRDj",
        "colab_type": "code",
        "colab": {}
      },
      "source": [
        "#Convert the x_train and y_train to numpy arrays \n",
        "x_train, y_train = np.array(x_train), np.array(y_train)"
      ],
      "execution_count": 0,
      "outputs": []
    },
    {
      "cell_type": "code",
      "metadata": {
        "id": "a03aI4vfmY-q",
        "colab_type": "code",
        "outputId": "c6e53c33-0531-4bf7-c1cc-584b8a268b6b",
        "colab": {
          "base_uri": "https://localhost:8080/",
          "height": 33
        }
      },
      "source": [
        "#Reshape the data\n",
        "x_train = np.reshape(x_train, (x_train.shape[0], x_train.shape[1], 1))\n",
        "x_train.shape"
      ],
      "execution_count": 0,
      "outputs": [
        {
          "output_type": "execute_result",
          "data": {
            "text/plain": [
              "(2357, 60, 1)"
            ]
          },
          "metadata": {
            "tags": []
          },
          "execution_count": 51
        }
      ]
    },
    {
      "cell_type": "code",
      "metadata": {
        "id": "8K82VYaDmZGn",
        "colab_type": "code",
        "colab": {}
      },
      "source": [
        "#Build the LSTM model\n",
        "model = Sequential()\n",
        "model.add(LSTM(50, return_sequences=True, input_shape= (x_train.shape[1], 1)))\n",
        "model.add(LSTM(50, return_sequences= False))\n",
        "model.add(Dense(25))\n",
        "model.add(Dense(1))"
      ],
      "execution_count": 0,
      "outputs": []
    },
    {
      "cell_type": "code",
      "metadata": {
        "id": "b7eeDljsmler",
        "colab_type": "code",
        "colab": {}
      },
      "source": [
        "#Compile the model\n",
        "model.compile(optimizer='adam', loss='mean_squared_error')"
      ],
      "execution_count": 0,
      "outputs": []
    },
    {
      "cell_type": "code",
      "metadata": {
        "id": "GadyZojpmrld",
        "colab_type": "code",
        "outputId": "35816cea-2039-4089-c9a1-3c6a097e8edf",
        "colab": {
          "base_uri": "https://localhost:8080/",
          "height": 50
        }
      },
      "source": [
        "#Train the model\n",
        "model.fit(x_train, y_train, epochs=1, batch_size=1)"
      ],
      "execution_count": 0,
      "outputs": [
        {
          "output_type": "stream",
          "text": [
            "2357/2357 [==============================] - 57s 24ms/step - loss: 3.9740e-04\n"
          ],
          "name": "stdout"
        },
        {
          "output_type": "execute_result",
          "data": {
            "text/plain": [
              "<tensorflow.python.keras.callbacks.History at 0x7f019d4f9a20>"
            ]
          },
          "metadata": {
            "tags": []
          },
          "execution_count": 54
        }
      ]
    },
    {
      "cell_type": "code",
      "metadata": {
        "id": "58hvG785nAf9",
        "colab_type": "code",
        "colab": {}
      },
      "source": [
        "#Create the testing data set\n",
        "#Create a new array containing scaled values from index 1543 to 2002 \n",
        "test_data = scaled_data[training_data_len - 60: , :]\n",
        "#Create the data sets x_test and y_test\n",
        "x_test = []\n",
        "y_test = dataset[training_data_len:, :]\n",
        "for i in range(60, len(test_data)):\n",
        "  x_test.append(test_data[i-60:i, 0])"
      ],
      "execution_count": 0,
      "outputs": []
    },
    {
      "cell_type": "code",
      "metadata": {
        "id": "ZwoW8OO8nBqk",
        "colab_type": "code",
        "colab": {}
      },
      "source": [
        "#Convert the data to a numpy array\n",
        "x_test = np.array(x_test)"
      ],
      "execution_count": 0,
      "outputs": []
    },
    {
      "cell_type": "code",
      "metadata": {
        "id": "ZIeveN2DnN-Q",
        "colab_type": "code",
        "colab": {}
      },
      "source": [
        "#Reshape the data\n",
        "x_test = np.reshape(x_test, (x_test.shape[0], x_test.shape[1], 1 ))"
      ],
      "execution_count": 0,
      "outputs": []
    },
    {
      "cell_type": "code",
      "metadata": {
        "id": "DI1mFsU5nPp4",
        "colab_type": "code",
        "colab": {}
      },
      "source": [
        "#Get the models predicted price values \n",
        "predictions = model.predict(x_test)\n",
        "predictions = scaler.inverse_transform(predictions)"
      ],
      "execution_count": 0,
      "outputs": []
    },
    {
      "cell_type": "code",
      "metadata": {
        "id": "5LTvl_GxnXee",
        "colab_type": "code",
        "outputId": "d9368f0a-0c42-430b-89ea-10d4f9f55e45",
        "colab": {
          "base_uri": "https://localhost:8080/",
          "height": 33
        }
      },
      "source": [
        "#Get the root mean squared error (RMSE)\n",
        "rmse=np.sqrt(np.mean(((predictions- y_test)**2)))\n",
        "rmse"
      ],
      "execution_count": 0,
      "outputs": [
        {
          "output_type": "execute_result",
          "data": {
            "text/plain": [
              "10.013691119385538"
            ]
          },
          "metadata": {
            "tags": []
          },
          "execution_count": 59
        }
      ]
    },
    {
      "cell_type": "code",
      "metadata": {
        "id": "YfHz1FjYnYBx",
        "colab_type": "code",
        "outputId": "114af010-2d3b-4687-f2f7-e642391d24d6",
        "colab": {
          "base_uri": "https://localhost:8080/",
          "height": 655
        }
      },
      "source": [
        "\n",
        "#Plot the data\n",
        "train = data[:training_data_len]\n",
        "valid = data[training_data_len:]\n",
        "valid['Predictions'] = predictions\n",
        "#Visualize the data\n",
        "plt.figure(figsize=(16,8))\n",
        "plt.title('Model')\n",
        "plt.xlabel('Date', fontsize=18)\n",
        "plt.ylabel('Adj Close Price USD ($)', fontsize=18)\n",
        "plt.plot(train['Adj Close'])\n",
        "plt.plot(valid[['Adj Close', 'Predictions']])\n",
        "plt.legend(['Train', 'Test', 'Predictions'], loc='lower right')\n",
        "plt.show()"
      ],
      "execution_count": 0,
      "outputs": [
        {
          "output_type": "stream",
          "text": [
            "/usr/local/lib/python3.6/dist-packages/ipykernel_launcher.py:3: SettingWithCopyWarning: \n",
            "A value is trying to be set on a copy of a slice from a DataFrame.\n",
            "Try using .loc[row_indexer,col_indexer] = value instead\n",
            "\n",
            "See the caveats in the documentation: https://pandas.pydata.org/pandas-docs/stable/user_guide/indexing.html#returning-a-view-versus-a-copy\n",
            "  This is separate from the ipykernel package so we can avoid doing imports until\n"
          ],
          "name": "stderr"
        },
        {
          "output_type": "display_data",
          "data": {
            "image/png": "[encoded data removed]",
            "text/plain": [
              "<Figure size 1152x576 with 1 Axes>"
            ]
          },
          "metadata": {
            "tags": []
          }
        }
      ]
    },
    {
      "cell_type": "code",
      "metadata": {
        "id": "47NHTi92nYFE",
        "colab_type": "code",
        "outputId": "e2ad0540-14b8-449e-aca6-6aec85e34f66",
        "colab": {
          "base_uri": "https://localhost:8080/",
          "height": 420
        }
      },
      "source": [
        "#Show the valid and predicted prices\n",
        "valid"
      ],
      "execution_count": 0,
      "outputs": [
        {
          "output_type": "execute_result",
          "data": {
            "text/html": [
              "<div>\n",
              "<style scoped>\n",
              "    .dataframe tbody tr th:only-of-type {\n",
              "        vertical-align: middle;\n",
              "    }\n",
              "\n",
              "    .dataframe tbody tr th {\n",
              "        vertical-align: top;\n",
              "    }\n",
              "\n",
              "    .dataframe thead th {\n",
              "        text-align: right;\n",
              "    }\n",
              "</style>\n",
              "<table border=\"1\" class=\"dataframe\">\n",
              "  <thead>\n",
              "    <tr style=\"text-align: right;\">\n",
              "      <th></th>\n",
              "      <th>Adj Close</th>\n",
              "      <th>Predictions</th>\n",
              "    </tr>\n",
              "    <tr>\n",
              "      <th>Date</th>\n",
              "      <th></th>\n",
              "      <th></th>\n",
              "    </tr>\n",
              "  </thead>\n",
              "  <tbody>\n",
              "    <tr>\n",
              "      <th>2017-08-08</th>\n",
              "      <td>153.850388</td>\n",
              "      <td>157.218369</td>\n",
              "    </tr>\n",
              "    <tr>\n",
              "      <th>2017-08-09</th>\n",
              "      <td>154.792236</td>\n",
              "      <td>158.377792</td>\n",
              "    </tr>\n",
              "    <tr>\n",
              "      <th>2017-08-10</th>\n",
              "      <td>149.861832</td>\n",
              "      <td>159.563568</td>\n",
              "    </tr>\n",
              "    <tr>\n",
              "      <th>2017-08-11</th>\n",
              "      <td>151.945938</td>\n",
              "      <td>160.031006</td>\n",
              "    </tr>\n",
              "    <tr>\n",
              "      <th>2017-08-14</th>\n",
              "      <td>154.232635</td>\n",
              "      <td>160.393341</td>\n",
              "    </tr>\n",
              "    <tr>\n",
              "      <th>...</th>\n",
              "      <td>...</td>\n",
              "      <td>...</td>\n",
              "    </tr>\n",
              "    <tr>\n",
              "      <th>2019-12-24</th>\n",
              "      <td>283.596924</td>\n",
              "      <td>285.144196</td>\n",
              "    </tr>\n",
              "    <tr>\n",
              "      <th>2019-12-26</th>\n",
              "      <td>289.223602</td>\n",
              "      <td>286.342682</td>\n",
              "    </tr>\n",
              "    <tr>\n",
              "      <th>2019-12-27</th>\n",
              "      <td>289.113831</td>\n",
              "      <td>288.073456</td>\n",
              "    </tr>\n",
              "    <tr>\n",
              "      <th>2019-12-30</th>\n",
              "      <td>290.829773</td>\n",
              "      <td>289.753815</td>\n",
              "    </tr>\n",
              "    <tr>\n",
              "      <th>2019-12-31</th>\n",
              "      <td>292.954712</td>\n",
              "      <td>291.423676</td>\n",
              "    </tr>\n",
              "  </tbody>\n",
              "</table>\n",
              "<p>604 rows × 2 columns</p>\n",
              "</div>"
            ],
            "text/plain": [
              "             Adj Close  Predictions\n",
              "Date                               \n",
              "2017-08-08  153.850388   157.218369\n",
              "2017-08-09  154.792236   158.377792\n",
              "2017-08-10  149.861832   159.563568\n",
              "2017-08-11  151.945938   160.031006\n",
              "2017-08-14  154.232635   160.393341\n",
              "...                ...          ...\n",
              "2019-12-24  283.596924   285.144196\n",
              "2019-12-26  289.223602   286.342682\n",
              "2019-12-27  289.113831   288.073456\n",
              "2019-12-30  290.829773   289.753815\n",
              "2019-12-31  292.954712   291.423676\n",
              "\n",
              "[604 rows x 2 columns]"
            ]
          },
          "metadata": {
            "tags": []
          },
          "execution_count": 61
        }
      ]
    },
    {
      "cell_type": "code",
      "metadata": {
        "id": "QSBGWH8snvQa",
        "colab_type": "code",
        "outputId": "31ae1b4d-dac0-4efb-963c-f119a4fc375e",
        "colab": {
          "base_uri": "https://localhost:8080/",
          "height": 33
        }
      },
      "source": [
        "#Get the quote\n",
        "apple_quote = web.DataReader('AAPL', data_source='yahoo', start='2019-09-01', end='2020-04-09')\n",
        "#Create a new dataframe\n",
        "new_df = apple_quote.filter(['Adj Close'])\n",
        "#Get teh last 60 day closing price values and convert the dataframe to an array\n",
        "last_60_days = new_df[-60:].values\n",
        "#Scale the data to be values between 0 and 1\n",
        "last_60_days_scaled = scaler.transform(last_60_days)\n",
        "#Create an empty list\n",
        "X_test = []\n",
        "#Append teh past 60 days\n",
        "X_test.append(last_60_days_scaled)\n",
        "#Convert the X_test data set to a numpy array\n",
        "X_test = np.array(X_test)\n",
        "#Reshape the data\n",
        "X_test = np.reshape(X_test, (X_test.shape[0], X_test.shape[1], 1))\n",
        "#Get the predicted scaled price\n",
        "pred_price = model.predict(X_test)\n",
        "#undo the scaling \n",
        "pred_price = scaler.inverse_transform(pred_price)\n",
        "print(pred_price)"
      ],
      "execution_count": 0,
      "outputs": [
        {
          "output_type": "stream",
          "text": [
            "[[265.09488]]\n"
          ],
          "name": "stdout"
        }
      ]
    },
    {
      "cell_type": "code",
      "metadata": {
        "id": "oXC1OGl4n3tx",
        "colab_type": "code",
        "outputId": "9f3373bc-4519-49fe-cb47-8e0e0b22b8c4",
        "colab": {
          "base_uri": "https://localhost:8080/",
          "height": 228
        }
      },
      "source": [
        "#Get the quote\n",
        "apple_quote2 = web.DataReader('AAPL', data_source='yahoo', start='2020-01-10', end='2020-04-10')\n",
        "print(apple_quote2['Adj Close'])"
      ],
      "execution_count": 0,
      "outputs": [
        {
          "output_type": "stream",
          "text": [
            "Date\n",
            "2020-01-10    309.595215\n",
            "2020-01-13    316.209534\n",
            "2020-01-14    311.939667\n",
            "2020-01-15    310.602844\n",
            "2020-01-16    314.493591\n",
            "                 ...    \n",
            "2020-04-03    241.410004\n",
            "2020-04-06    262.470001\n",
            "2020-04-07    259.429993\n",
            "2020-04-08    266.070007\n",
            "2020-04-09    267.989990\n",
            "Name: Adj Close, Length: 63, dtype: float64\n"
          ],
          "name": "stdout"
        }
      ]
    },
    {
      "cell_type": "code",
      "metadata": {
        "id": "9vJFAinIGTA_",
        "colab_type": "code",
        "colab": {}
      },
      "source": [
        "# Import metrics package from sklearn for statistical analysis\n",
        "from sklearn import metrics"
      ],
      "execution_count": 0,
      "outputs": []
    },
    {
      "cell_type": "code",
      "metadata": {
        "id": "cO3aXRJDHIuE",
        "colab_type": "code",
        "outputId": "34ec1827-fefc-4935-af43-d1467e8ae898",
        "colab": {
          "base_uri": "https://localhost:8080/",
          "height": 50
        }
      },
      "source": [
        "# Calculate and print values of MAE, MSE, RMSE\n",
        "#print('Mean Absolute Error:', metrics.mean_absolute_error(y_test, predictions))  \n",
        "#print('Mean Squared Error:', metrics.mean_squared_error(y_test,predictions ))  \n",
        "print('Mean Absolute Percentage Error:', np.mean(np.abs((predictions - y_test ) / y_test)*100)) \n",
        "print('Root Mean Squared Error:', np.sqrt(np.mean(((predictions- y_test)**2))))"
      ],
      "execution_count": 0,
      "outputs": [
        {
          "output_type": "stream",
          "text": [
            "Mean Absolute Percentage Error: 4.811443541534807\n",
            "Root Mean Squared Error: 10.013691119385538\n"
          ],
          "name": "stdout"
        }
      ]
    }
  ]
}